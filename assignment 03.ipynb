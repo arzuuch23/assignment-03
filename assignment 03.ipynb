{
 "cells": [
  {
   "cell_type": "markdown",
   "id": "03836122-4971-4e55-88cb-ee055f64f136",
   "metadata": {},
   "source": [
    "# Name : Arzoo mehboob\n",
    "# Roll no: SP25-BBD-018"
   ]
  },
  {
   "cell_type": "markdown",
   "id": "a0afe526-b9c4-4a34-b880-a1cc99c538ca",
   "metadata": {},
   "source": [
    "# Create a dictionary to store information about a person (name, age, city, hobbies)."
   ]
  },
  {
   "cell_type": "code",
   "execution_count": 5,
   "id": "2b8f8602-efb5-4552-b89a-e3b805aebe2f",
   "metadata": {},
   "outputs": [
    {
     "name": "stdout",
     "output_type": "stream",
     "text": [
      "{'name': 'Arzu', 'Age': '19', 'City': 'Toronto', 'Hobbies': ['cooking', 'writing']}\n"
     ]
    }
   ],
   "source": [
    "person = {'name': 'Arzu', 'Age': '19', 'City': 'Toronto', 'Hobbies': ['cooking', 'writing']}\n",
    "print(person)"
   ]
  },
  {
   "cell_type": "markdown",
   "id": "eab2934c-b156-4821-ac59-f77da089983c",
   "metadata": {},
   "source": [
    "# Write a program to count the frequency of words in a given text."
   ]
  },
  {
   "cell_type": "code",
   "execution_count": 11,
   "id": "34cd0792-8c17-4765-9050-62c0a7bbd7fc",
   "metadata": {},
   "outputs": [
    {
     "name": "stdout",
     "output_type": "stream",
     "text": [
      "{'arzoo': 1, 'mehboob': 1}\n"
     ]
    }
   ],
   "source": [
    "import string\n",
    "\n",
    "def count_word_frequency(text):\n",
    "    text = text.lower().translate(str.maketrans('', '', string.punctuation))\n",
    "    words = text.split()\n",
    "    freq = {}\n",
    "    for w in words:\n",
    "        freq[w] = freq.get(w, 0) + 1\n",
    "    return freq\n",
    "\n",
    "text = \"arzoo mehboob .\"\n",
    "print(count_word_frequency(text))"
   ]
  },
  {
   "cell_type": "markdown",
   "id": "1afc76bc-6def-41ba-ad4d-cbc0abde22a7",
   "metadata": {},
   "source": [
    "#  Implement a simple inventory system using dictionaries."
   ]
  },
  {
   "cell_type": "code",
   "execution_count": 15,
   "id": "b05d144a-dcd5-4aa1-8501-26632e4b0fbe",
   "metadata": {},
   "outputs": [
    {
     "name": "stdout",
     "output_type": "stream",
     "text": [
      "\n",
      "Current Inventory:\n",
      "apple: 20\n",
      "banana: 10\n",
      "orange: 8\n",
      "Not enough orange to remove.\n",
      "\n",
      "Current Inventory:\n",
      "apple: 16\n",
      "banana: 13\n",
      "orange: 8\n",
      "grape: 7\n"
     ]
    }
   ],
   "source": [
    "inventory = {\n",
    "    \"apple\": 20,\n",
    "    \"banana\": 10,\n",
    "    \"orange\": 8\n",
    "}\n",
    "\n",
    "def display_inventory(inv):\n",
    "    print(\"\\nCurrent Inventory:\")\n",
    "    for item, qty in inv.items():\n",
    "        print(f\"{item}: {qty}\")\n",
    "\n",
    "# Function to add items\n",
    "def add_item(inv, item, quantity):\n",
    "    inv[item] = inv.get(item, 0) + quantity\n",
    "\n",
    "# Function to remove items\n",
    "def remove_item(inv, item, quantity):\n",
    "    if item in inv:\n",
    "        if inv[item] >= quantity:\n",
    "            inv[item] -= quantity\n",
    "            if inv[item] == 0:\n",
    "                del inv[item]  # Optional: remove item if quantity is zero\n",
    "        else:\n",
    "            print(f\"Not enough {item} to remove.\")\n",
    "    else:\n",
    "        print(f\"{item} not found in inventory.\")\n",
    "\n",
    "display_inventory(inventory)\n",
    "\n",
    "add_item(inventory, \"banana\", 3)\n",
    "add_item(inventory, \"grape\", 7)\n",
    "remove_item(inventory, \"apple\", 4)\n",
    "remove_item(inventory, \"orange\", 10) \n",
    "\n",
    "display_inventory(inventory)"
   ]
  },
  {
   "cell_type": "markdown",
   "id": "add5349a-d0e8-4e7f-b353-6748b6a9453a",
   "metadata": {},
   "source": [
    "# Analyze a dataset of customer orders to find the most popular product category."
   ]
  },
  {
   "cell_type": "code",
   "execution_count": 25,
   "id": "fb038556-2aa2-43fb-8246-dc7f41523896",
   "metadata": {},
   "outputs": [
    {
     "name": "stdout",
     "output_type": "stream",
     "text": [
      "Category counts: {'Stationery': 4, 'Personal Care': 3, 'Clothing': 2}\n",
      "Most popular category: Stationery\n"
     ]
    }
   ],
   "source": [
    "orders = [\n",
    "    {\"product\": \"Notebook\", \"category\": \"Stationery\"},\n",
    "    {\"product\": \"Pen\", \"category\": \"Stationery\"},\n",
    "    {\"product\": \"Shampoo\", \"category\": \"Personal Care\"},\n",
    "    {\"product\": \"Toothpaste\", \"category\": \"Personal Care\"},\n",
    "    {\"product\": \"T-shirt\", \"category\": \"Clothing\"},\n",
    "    {\"product\": \"Notebook\", \"category\": \"Stationery\"},\n",
    "    {\"product\": \"Face Wash\", \"category\": \"Personal Care\"},\n",
    "    {\"product\": \"Jacket\", \"category\": \"Clothing\"},\n",
    "    {\"product\": \"Eraser\", \"category\": \"Stationery\"}\n",
    "]\n",
    "\n",
    "category_count = {}\n",
    "for order in orders:\n",
    "    cat = order[\"category\"]\n",
    "    category_count[cat] = category_count.get(cat, 0) + 1\n",
    "\n",
    "most_popular = max(category_count, key=category_count.get)\n",
    "\n",
    "print(\"Category counts:\", category_count)\n",
    "print(\"Most popular category:\", most_popular)\n"
   ]
  },
  {
   "cell_type": "markdown",
   "id": "9422837f-b595-45b9-b232-374acd60b71b",
   "metadata": {},
   "source": [
    "#  Create a dictionary to store student grades and calculate the average grade."
   ]
  },
  {
   "cell_type": "code",
   "execution_count": 35,
   "id": "e184b407-1888-412a-8eaa-60119296be85",
   "metadata": {},
   "outputs": [
    {
     "name": "stdout",
     "output_type": "stream",
     "text": [
      "Average Grade: 87.60\n"
     ]
    }
   ],
   "source": [
    "grades = {\n",
    "    \"Arzu\": 85,\n",
    "    \"wajeeha\": 92,\n",
    "    \"alina\": 78,\n",
    "    \"anass\": 88,\n",
    "    \"Essa\": 95\n",
    "}\n",
    "\n",
    "def calculate_average(grades):\n",
    "    total_grades = sum(grades.values())  \n",
    "    num_students = len(grades)           \n",
    "    average = total_grades / num_students  \n",
    "    return average\n",
    "\n",
    "average_grade = calculate_average(grades)\n",
    "print(f\"Average Grade: {average_grade:.2f}\")"
   ]
  },
  {
   "cell_type": "markdown",
   "id": "5e4190e5-71fa-4a57-8d39-ffe52b4edcf0",
   "metadata": {},
   "source": [
    "#  Inventory Management:"
   ]
  },
  {
   "cell_type": "code",
   "execution_count": 39,
   "id": "fefc63a2-8657-4049-8ba0-7dbc8dd52b35",
   "metadata": {},
   "outputs": [
    {
     "name": "stdout",
     "output_type": "stream",
     "text": [
      "Shirt not found in inventory.\n",
      "Total Inventory Value: 13560\n",
      "Low-stock items: {'jeans': {'quantity': 3, 'price': 20}}\n"
     ]
    }
   ],
   "source": [
    "inventory = {}\n",
    "\n",
    "def add_product(name, quantity, price):\n",
    "    inventory[name] = {\"quantity\": quantity, \"price\": price}\n",
    "\n",
    "# Function to update product quantities\n",
    "def update_quantity(name, quantity):\n",
    "    if name in inventory:\n",
    "        inventory[name][\"quantity\"] += quantity\n",
    "    else:\n",
    "        print(f\"{name} not found in inventory.\")\n",
    "\n",
    "# Function to calculate total inventory value\n",
    "def calculate_total_inventory_value():\n",
    "    total_value = 0\n",
    "    for product in inventory.values():\n",
    "        total_value += product[\"quantity\"] * product[\"price\"]\n",
    "    return total_value\n",
    "\n",
    "# Function to generate report of low-stock items (stock < 5)\n",
    "def low_stock_report():\n",
    "    low_stock_items = {name: info for name, info in inventory.items() if info[\"quantity\"] < 5}\n",
    "    return low_stock_items\n",
    "\n",
    "add_product(\"hoodie\", 10, 1000)\n",
    "add_product(\"jeans\", 3, 20)\n",
    "add_product(\"Phone\", 7, 500)\n",
    "\n",
    "update_quantity(\"Shirt\", 2)\n",
    "\n",
    "print(\"Total Inventory Value:\", calculate_total_inventory_value())\n",
    "print(\"Low-stock items:\", low_stock_report())"
   ]
  },
  {
   "cell_type": "markdown",
   "id": "563b1667-d5c5-485b-88d4-06137a4e08b1",
   "metadata": {},
   "source": [
    "# Student Gradebook:"
   ]
  },
  {
   "cell_type": "code",
   "execution_count": 45,
   "id": "68c341e7-8a3b-4dd7-be2c-2b7038392a7b",
   "metadata": {},
   "outputs": [
    {
     "name": "stdout",
     "output_type": "stream",
     "text": [
      "Average grade of Arzu: None\n",
      "Highest in Math: Arzu, Lowest in Math: wajeeha\n",
      "Students sorted by average grade: [('Arzu', 89.0), ('Anass', 88.0), ('wajeeha', 75.0)]\n"
     ]
    }
   ],
   "source": [
    "grades = {\n",
    "    \"Arzu\": {\"Math\": 90, \"Science\": 85, \"English\": 92},\n",
    "    \"wajeeha\": {\"Math\": 75, \"Science\": 80, \"English\": 70},\n",
    "    \"Anass\": {\"Math\": 85, \"Science\": 88, \"English\": 91},\n",
    "}\n",
    "\n",
    "# Function to calculate average grade\n",
    "def calculate_average(grades, student_name):\n",
    "    student_grades = grades.get(student_name)\n",
    "    if student_grades:\n",
    "        return sum(student_grades.values()) / len(student_grades)\n",
    "    else:\n",
    "        return None\n",
    "\n",
    "# Function to find highest and lowest grades in a specific subject\n",
    "def subject_grades(grades, subject):\n",
    "    subject_grades = {name: student[subject] for name, student in grades.items() if subject in student}\n",
    "    highest = max(subject_grades, key=subject_grades.get)\n",
    "    lowest = min(subject_grades, key=subject_grades.get)\n",
    "    return highest, lowest\n",
    "\n",
    "# Sort students by average grade\n",
    "def sort_students_by_average(grades):\n",
    "    averages = {name: calculate_average(grades, name) for name in grades}\n",
    "    sorted_students = sorted(averages.items(), key=lambda x: x[1], reverse=True)\n",
    "    return sorted_students\n",
    "\n",
    "print(\"Average grade of Arzu:\", calculate_average(grades, \"Alice\"))\n",
    "highest, lowest = subject_grades(grades, \"Math\")\n",
    "print(f\"Highest in Math: {highest}, Lowest in Math: {lowest}\")\n",
    "\n",
    "print(\"Students sorted by average grade:\", sort_students_by_average(grades))"
   ]
  },
  {
   "cell_type": "markdown",
   "id": "5bc6af6d-6108-4e2c-ba0a-5a10858f5c12",
   "metadata": {},
   "source": [
    "# Simple E-commerce Store:\n",
    "# Create a dictionary to store product information: name, price, quantity.\n",
    "# Implement a shopping cart feature where users can add and remove products.\n",
    "# Calculate the total cost of items in the cart.\n",
    "# Apply discounts and taxes to the total cost.\n"
   ]
  },
  {
   "cell_type": "code",
   "execution_count": 47,
   "id": "03993a52-8601-40c7-b0ec-2da0c8827364",
   "metadata": {},
   "outputs": [
    {
     "name": "stdout",
     "output_type": "stream",
     "text": [
      "Total cost before discount and tax: $2040\n",
      "Final cost after discount and tax: $1982.88\n"
     ]
    }
   ],
   "source": [
    "store = {\n",
    "    \"Laptop\": {\"price\": 1000, \"quantity\": 10},\n",
    "    \"Shirt\": {\"price\": 20, \"quantity\": 50},\n",
    "    \"Phone\": {\"price\": 500, \"quantity\": 30}\n",
    "}\n",
    "\n",
    "cart = {}\n",
    "\n",
    "def add_to_cart(product, quantity):\n",
    "    if product in store and store[product][\"quantity\"] >= quantity:\n",
    "        if product in cart:\n",
    "            cart[product] += quantity\n",
    "        else:\n",
    "            cart[product] = quantity\n",
    "        store[product][\"quantity\"] -= quantity\n",
    "    else:\n",
    "        print(f\"Cannot add {quantity} {product}(s). Not enough stock or product does not exist.\")\n",
    "\n",
    "\n",
    "def remove_from_cart(product, quantity):\n",
    "    if product in cart and cart[product] >= quantity:\n",
    "        cart[product] -= quantity\n",
    "        store[product][\"quantity\"] += quantity\n",
    "        if cart[product] == 0:\n",
    "            del cart[product]\n",
    "    else:\n",
    "        print(f\"Cannot remove {quantity} {product}(s) from cart.\")\n",
    "\n",
    "def calculate_total_cost():\n",
    "    total = sum(store[product][\"price\"] * quantity for product, quantity in cart.items())\n",
    "    return total\n",
    "\n",
    "\n",
    "def apply_discount_and_tax(total, discount=0, tax_rate=0.1):\n",
    "    discounted_price = total - (total * discount)\n",
    "    total_with_tax = discounted_price + (discounted_price * tax_rate)\n",
    "    return total_with_tax\n",
    "\n",
    "add_to_cart(\"Laptop\", 2)\n",
    "add_to_cart(\"Shirt\", 3)\n",
    "remove_from_cart(\"Shirt\", 1)\n",
    "\n",
    "total_cost = calculate_total_cost()\n",
    "print(f\"Total cost before discount and tax: ${total_cost}\")\n",
    "final_cost = apply_discount_and_tax(total_cost, discount=0.1, tax_rate=0.08)\n",
    "print(f\"Final cost after discount and tax: ${final_cost:.2f}\")"
   ]
  },
  {
   "cell_type": "code",
   "execution_count": null,
   "id": "695a67cf-96f4-4dc8-af3e-a61f8db4bd12",
   "metadata": {},
   "outputs": [],
   "source": []
  }
 ],
 "metadata": {
  "kernelspec": {
   "display_name": "Python [conda env:base] *",
   "language": "python",
   "name": "conda-base-py"
  },
  "language_info": {
   "codemirror_mode": {
    "name": "ipython",
    "version": 3
   },
   "file_extension": ".py",
   "mimetype": "text/x-python",
   "name": "python",
   "nbconvert_exporter": "python",
   "pygments_lexer": "ipython3",
   "version": "3.12.7"
  }
 },
 "nbformat": 4,
 "nbformat_minor": 5
}
